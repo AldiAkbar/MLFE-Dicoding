{
 "cells": [
  {
   "cell_type": "code",
   "execution_count": 4,
   "metadata": {
    "colab": {
     "base_uri": "https://localhost:8080/"
    },
    "id": "mZVO2Bkzy0qC",
    "outputId": "a0e91c15-b664-4ceb-984e-1a3e77850c5a"
   },
   "outputs": [
    {
     "name": "stdout",
     "output_type": "stream",
     "text": [
      "Nama                 : Aldi Akbar Alimi\n",
      "Username dicoding    : alldinosaur\n",
      "Email                : aldiakbar373@gmail.com\n",
      "Domisili             : Kab. Cirebon\n",
      "TTL                  : Brebes, 25 Juni 2001\n",
      "Pendidikan Terakhir  : SMA Negeri 1 Brebes\n",
      "Pendidikan Sekarang  : STT Terpadu Nurul Fikri\n"
     ]
    }
   ],
   "source": [
    "print('Nama                 : Aldi Akbar Alimi')\n",
    "print('Username dicoding    : alldinosaur')\n",
    "print('Email                : aldiakbar373@gmail.com')\n",
    "print('Domisili             : Kab. Cirebon')\n",
    "print('TTL                  : Brebes, 25 Juni 2001')\n",
    "print('Pendidikan Terakhir  : SMA Negeri 1 Brebes')\n",
    "print('Pendidikan Sekarang  : STT Terpadu Nurul Fikri')"
   ]
  },
  {
   "cell_type": "code",
   "execution_count": 5,
   "metadata": {
    "id": "XVsUOM-6oZv2"
   },
   "outputs": [],
   "source": [
    "import pandas as pd\n",
    "import tensorflow as tf\n",
    "import matplotlib.pyplot as plt\n",
    "\n",
    "from tensorflow.keras.preprocessing.text import Tokenizer\n",
    "from tensorflow.keras.preprocessing.sequence import pad_sequences\n",
    "from sklearn.model_selection import train_test_split"
   ]
  },
  {
   "cell_type": "code",
   "execution_count": 6,
   "metadata": {
    "colab": {
     "base_uri": "https://localhost:8080/"
    },
    "id": "BJ-EL1ceo_F_",
    "outputId": "079f6514-ac22-451f-807d-87e630d46c4f"
   },
   "outputs": [
    {
     "data": {
      "text/plain": [
       "<bound method NDFrame.head of                                            OriginalTweet           Sentiment\n",
       "0      @MeNyrbie @Phil_Gahan @Chrisitv https://t.co/i...             Neutral\n",
       "1      advice Talk to your neighbours family to excha...            Positive\n",
       "2      Coronavirus Australia: Woolworths to give elde...            Positive\n",
       "3      My food stock is not the only one which is emp...            Positive\n",
       "4      Me, ready to go at supermarket during the #COV...  Extremely Negative\n",
       "...                                                  ...                 ...\n",
       "41152  Airline pilots offering to stock supermarket s...             Neutral\n",
       "41153  Response to complaint not provided citing COVI...  Extremely Negative\n",
       "41154  You know itÂs getting tough when @KameronWild...            Positive\n",
       "41155  Is it wrong that the smell of hand sanitizer i...             Neutral\n",
       "41156  @TartiiCat Well new/used Rift S are going for ...            Negative\n",
       "\n",
       "[41157 rows x 2 columns]>"
      ]
     },
     "execution_count": 6,
     "metadata": {},
     "output_type": "execute_result"
    }
   ],
   "source": [
    "import pandas as pd\n",
    "df = pd.read_csv('Corona_NLP_train.csv',encoding=\"latin1\")\n",
    "df = df.drop(columns=['UserName','ScreenName','Location','TweetAt'])\n",
    "df.head"
   ]
  },
  {
   "cell_type": "code",
   "execution_count": 7,
   "metadata": {
    "colab": {
     "base_uri": "https://localhost:8080/"
    },
    "id": "krwFfSMMufax",
    "outputId": "9661d41e-e761-4eab-a820-8ac3685eb96d"
   },
   "outputs": [
    {
     "name": "stdout",
     "output_type": "stream",
     "text": [
      "['Neutral' 'Positive' 'Extremely Negative' 'Negative' 'Extremely Positive']\n"
     ]
    }
   ],
   "source": [
    "print(df['Sentiment'].unique())"
   ]
  },
  {
   "cell_type": "code",
   "execution_count": 8,
   "metadata": {
    "id": "UKD6hRG_-b1D"
   },
   "outputs": [],
   "source": [
    "for i in range(0,len(df)):\n",
    "    if(df['Sentiment'][i]=='Extremely Negative'):\n",
    "        df['Sentiment'][i]='Negative'\n",
    "    elif(df['Sentiment'][i]=='Extremely Positive'):\n",
    "        df['Sentiment'][i]='Positive'"
   ]
  },
  {
   "cell_type": "code",
   "execution_count": 9,
   "metadata": {
    "colab": {
     "base_uri": "https://localhost:8080/"
    },
    "id": "rusbofzTC_jy",
    "outputId": "ac214636-f8d9-49a1-80cd-1e6591d733c5"
   },
   "outputs": [
    {
     "name": "stdout",
     "output_type": "stream",
     "text": [
      "['Neutral' 'Positive' 'Negative']\n"
     ]
    }
   ],
   "source": [
    "print(df['Sentiment'].unique())"
   ]
  },
  {
   "cell_type": "code",
   "execution_count": 10,
   "metadata": {
    "colab": {
     "base_uri": "https://localhost:8080/",
     "height": 424
    },
    "id": "fP8XjzAXtltJ",
    "outputId": "73e3cbb9-4b8b-430c-e253-264a33ff9d69"
   },
   "outputs": [
    {
     "data": {
      "text/html": [
       "\n",
       "  <div id=\"df-5f6f9b9d-63dc-42fd-bfa7-82d1afb4db00\">\n",
       "    <div class=\"colab-df-container\">\n",
       "      <div>\n",
       "<style scoped>\n",
       "    .dataframe tbody tr th:only-of-type {\n",
       "        vertical-align: middle;\n",
       "    }\n",
       "\n",
       "    .dataframe tbody tr th {\n",
       "        vertical-align: top;\n",
       "    }\n",
       "\n",
       "    .dataframe thead th {\n",
       "        text-align: right;\n",
       "    }\n",
       "</style>\n",
       "<table border=\"1\" class=\"dataframe\">\n",
       "  <thead>\n",
       "    <tr style=\"text-align: right;\">\n",
       "      <th></th>\n",
       "      <th>OriginalTweet</th>\n",
       "      <th>Negative</th>\n",
       "      <th>Neutral</th>\n",
       "      <th>Positive</th>\n",
       "    </tr>\n",
       "  </thead>\n",
       "  <tbody>\n",
       "    <tr>\n",
       "      <th>0</th>\n",
       "      <td>@MeNyrbie @Phil_Gahan @Chrisitv https://t.co/i...</td>\n",
       "      <td>0</td>\n",
       "      <td>1</td>\n",
       "      <td>0</td>\n",
       "    </tr>\n",
       "    <tr>\n",
       "      <th>1</th>\n",
       "      <td>advice Talk to your neighbours family to excha...</td>\n",
       "      <td>0</td>\n",
       "      <td>0</td>\n",
       "      <td>1</td>\n",
       "    </tr>\n",
       "    <tr>\n",
       "      <th>2</th>\n",
       "      <td>Coronavirus Australia: Woolworths to give elde...</td>\n",
       "      <td>0</td>\n",
       "      <td>0</td>\n",
       "      <td>1</td>\n",
       "    </tr>\n",
       "    <tr>\n",
       "      <th>3</th>\n",
       "      <td>My food stock is not the only one which is emp...</td>\n",
       "      <td>0</td>\n",
       "      <td>0</td>\n",
       "      <td>1</td>\n",
       "    </tr>\n",
       "    <tr>\n",
       "      <th>4</th>\n",
       "      <td>Me, ready to go at supermarket during the #COV...</td>\n",
       "      <td>1</td>\n",
       "      <td>0</td>\n",
       "      <td>0</td>\n",
       "    </tr>\n",
       "    <tr>\n",
       "      <th>...</th>\n",
       "      <td>...</td>\n",
       "      <td>...</td>\n",
       "      <td>...</td>\n",
       "      <td>...</td>\n",
       "    </tr>\n",
       "    <tr>\n",
       "      <th>41152</th>\n",
       "      <td>Airline pilots offering to stock supermarket s...</td>\n",
       "      <td>0</td>\n",
       "      <td>1</td>\n",
       "      <td>0</td>\n",
       "    </tr>\n",
       "    <tr>\n",
       "      <th>41153</th>\n",
       "      <td>Response to complaint not provided citing COVI...</td>\n",
       "      <td>1</td>\n",
       "      <td>0</td>\n",
       "      <td>0</td>\n",
       "    </tr>\n",
       "    <tr>\n",
       "      <th>41154</th>\n",
       "      <td>You know itÂs getting tough when @KameronWild...</td>\n",
       "      <td>0</td>\n",
       "      <td>0</td>\n",
       "      <td>1</td>\n",
       "    </tr>\n",
       "    <tr>\n",
       "      <th>41155</th>\n",
       "      <td>Is it wrong that the smell of hand sanitizer i...</td>\n",
       "      <td>0</td>\n",
       "      <td>1</td>\n",
       "      <td>0</td>\n",
       "    </tr>\n",
       "    <tr>\n",
       "      <th>41156</th>\n",
       "      <td>@TartiiCat Well new/used Rift S are going for ...</td>\n",
       "      <td>1</td>\n",
       "      <td>0</td>\n",
       "      <td>0</td>\n",
       "    </tr>\n",
       "  </tbody>\n",
       "</table>\n",
       "<p>41157 rows × 4 columns</p>\n",
       "</div>\n",
       "      <button class=\"colab-df-convert\" onclick=\"convertToInteractive('df-5f6f9b9d-63dc-42fd-bfa7-82d1afb4db00')\"\n",
       "              title=\"Convert this dataframe to an interactive table.\"\n",
       "              style=\"display:none;\">\n",
       "        \n",
       "  <svg xmlns=\"http://www.w3.org/2000/svg\" height=\"24px\"viewBox=\"0 0 24 24\"\n",
       "       width=\"24px\">\n",
       "    <path d=\"M0 0h24v24H0V0z\" fill=\"none\"/>\n",
       "    <path d=\"M18.56 5.44l.94 2.06.94-2.06 2.06-.94-2.06-.94-.94-2.06-.94 2.06-2.06.94zm-11 1L8.5 8.5l.94-2.06 2.06-.94-2.06-.94L8.5 2.5l-.94 2.06-2.06.94zm10 10l.94 2.06.94-2.06 2.06-.94-2.06-.94-.94-2.06-.94 2.06-2.06.94z\"/><path d=\"M17.41 7.96l-1.37-1.37c-.4-.4-.92-.59-1.43-.59-.52 0-1.04.2-1.43.59L10.3 9.45l-7.72 7.72c-.78.78-.78 2.05 0 2.83L4 21.41c.39.39.9.59 1.41.59.51 0 1.02-.2 1.41-.59l7.78-7.78 2.81-2.81c.8-.78.8-2.07 0-2.86zM5.41 20L4 18.59l7.72-7.72 1.47 1.35L5.41 20z\"/>\n",
       "  </svg>\n",
       "      </button>\n",
       "      \n",
       "  <style>\n",
       "    .colab-df-container {\n",
       "      display:flex;\n",
       "      flex-wrap:wrap;\n",
       "      gap: 12px;\n",
       "    }\n",
       "\n",
       "    .colab-df-convert {\n",
       "      background-color: #E8F0FE;\n",
       "      border: none;\n",
       "      border-radius: 50%;\n",
       "      cursor: pointer;\n",
       "      display: none;\n",
       "      fill: #1967D2;\n",
       "      height: 32px;\n",
       "      padding: 0 0 0 0;\n",
       "      width: 32px;\n",
       "    }\n",
       "\n",
       "    .colab-df-convert:hover {\n",
       "      background-color: #E2EBFA;\n",
       "      box-shadow: 0px 1px 2px rgba(60, 64, 67, 0.3), 0px 1px 3px 1px rgba(60, 64, 67, 0.15);\n",
       "      fill: #174EA6;\n",
       "    }\n",
       "\n",
       "    [theme=dark] .colab-df-convert {\n",
       "      background-color: #3B4455;\n",
       "      fill: #D2E3FC;\n",
       "    }\n",
       "\n",
       "    [theme=dark] .colab-df-convert:hover {\n",
       "      background-color: #434B5C;\n",
       "      box-shadow: 0px 1px 3px 1px rgba(0, 0, 0, 0.15);\n",
       "      filter: drop-shadow(0px 1px 2px rgba(0, 0, 0, 0.3));\n",
       "      fill: #FFFFFF;\n",
       "    }\n",
       "  </style>\n",
       "\n",
       "      <script>\n",
       "        const buttonEl =\n",
       "          document.querySelector('#df-5f6f9b9d-63dc-42fd-bfa7-82d1afb4db00 button.colab-df-convert');\n",
       "        buttonEl.style.display =\n",
       "          google.colab.kernel.accessAllowed ? 'block' : 'none';\n",
       "\n",
       "        async function convertToInteractive(key) {\n",
       "          const element = document.querySelector('#df-5f6f9b9d-63dc-42fd-bfa7-82d1afb4db00');\n",
       "          const dataTable =\n",
       "            await google.colab.kernel.invokeFunction('convertToInteractive',\n",
       "                                                     [key], {});\n",
       "          if (!dataTable) return;\n",
       "\n",
       "          const docLinkHtml = 'Like what you see? Visit the ' +\n",
       "            '<a target=\"_blank\" href=https://colab.research.google.com/notebooks/data_table.ipynb>data table notebook</a>'\n",
       "            + ' to learn more about interactive tables.';\n",
       "          element.innerHTML = '';\n",
       "          dataTable['output_type'] = 'display_data';\n",
       "          await google.colab.output.renderOutput(dataTable, element);\n",
       "          const docLink = document.createElement('div');\n",
       "          docLink.innerHTML = docLinkHtml;\n",
       "          element.appendChild(docLink);\n",
       "        }\n",
       "      </script>\n",
       "    </div>\n",
       "  </div>\n",
       "  "
      ],
      "text/plain": [
       "                                           OriginalTweet  Negative  Neutral  \\\n",
       "0      @MeNyrbie @Phil_Gahan @Chrisitv https://t.co/i...         0        1   \n",
       "1      advice Talk to your neighbours family to excha...         0        0   \n",
       "2      Coronavirus Australia: Woolworths to give elde...         0        0   \n",
       "3      My food stock is not the only one which is emp...         0        0   \n",
       "4      Me, ready to go at supermarket during the #COV...         1        0   \n",
       "...                                                  ...       ...      ...   \n",
       "41152  Airline pilots offering to stock supermarket s...         0        1   \n",
       "41153  Response to complaint not provided citing COVI...         1        0   \n",
       "41154  You know itÂs getting tough when @KameronWild...         0        0   \n",
       "41155  Is it wrong that the smell of hand sanitizer i...         0        1   \n",
       "41156  @TartiiCat Well new/used Rift S are going for ...         1        0   \n",
       "\n",
       "       Positive  \n",
       "0             0  \n",
       "1             1  \n",
       "2             1  \n",
       "3             1  \n",
       "4             0  \n",
       "...         ...  \n",
       "41152         0  \n",
       "41153         0  \n",
       "41154         1  \n",
       "41155         0  \n",
       "41156         0  \n",
       "\n",
       "[41157 rows x 4 columns]"
      ]
     },
     "execution_count": 10,
     "metadata": {},
     "output_type": "execute_result"
    }
   ],
   "source": [
    "category = pd.get_dummies(df.Sentiment)\n",
    "df_baru = pd.concat([df, category], axis=1)\n",
    "df_baru = df_baru.drop(columns='Sentiment')\n",
    "df_baru"
   ]
  },
  {
   "cell_type": "code",
   "execution_count": 11,
   "metadata": {
    "colab": {
     "base_uri": "https://localhost:8080/"
    },
    "id": "nmLEQQ1dukqd",
    "outputId": "63c2e2a9-63b7-439b-a29b-f9639c4df02f"
   },
   "outputs": [
    {
     "data": {
      "text/plain": [
       "<bound method NDFrame.head of                                            OriginalTweet  Negative  Neutral  \\\n",
       "0                                               and and          0        1   \n",
       "1      advice talk to your neighbours family to excha...         0        0   \n",
       "2      coronavirus australia woolworths to give elder...         0        0   \n",
       "3      my food stock is not the only one which is emp...         0        0   \n",
       "4      me ready to go at supermarket during the outbr...         1        0   \n",
       "...                                                  ...       ...      ...   \n",
       "41152  airline pilots offering to stock supermarket s...         0        1   \n",
       "41153  response to complaint not provided citing covi...         1        0   \n",
       "41154  you know itâs getting tough when is rationing...         0        0   \n",
       "41155  is it wrong that the smell of hand sanitizer i...         0        1   \n",
       "41156   well new used rift s are going for on amazon ...         1        0   \n",
       "\n",
       "       Positive  \n",
       "0             0  \n",
       "1             1  \n",
       "2             1  \n",
       "3             1  \n",
       "4             0  \n",
       "...         ...  \n",
       "41152         0  \n",
       "41153         0  \n",
       "41154         1  \n",
       "41155         0  \n",
       "41156         0  \n",
       "\n",
       "[41157 rows x 4 columns]>"
      ]
     },
     "execution_count": 11,
     "metadata": {},
     "output_type": "execute_result"
    }
   ],
   "source": [
    "import re\n",
    "import string\n",
    "def casefolding(OriginalTweet):\n",
    "  OriginalTweet = OriginalTweet.lower()\n",
    "  OriginalTweet = OriginalTweet.strip(' ')\n",
    "  OriginalTweet = re.sub(\"@\\S+\", \" \", OriginalTweet)\n",
    "  OriginalTweet=re.sub(\"https*\\S+\", \" \", OriginalTweet)\n",
    "  OriginalTweet=re.sub(\"#\\S+\", \" \", OriginalTweet)\n",
    "  OriginalTweet=re.sub(\"\\'\\w+\", '', OriginalTweet)\n",
    "  OriginalTweet=re.sub('[%s]' % re.escape(string.punctuation), ' ', OriginalTweet)\n",
    "  OriginalTweet=re.sub(r'\\w*\\d+\\w*', '', OriginalTweet)\n",
    "  OriginalTweet=re.sub('\\s{2,}', \" \", OriginalTweet)\n",
    "  return OriginalTweet\n",
    "df_baru[\"OriginalTweet\"] = df_baru[\"OriginalTweet\"].apply(casefolding)\n",
    "df_baru.head"
   ]
  },
  {
   "cell_type": "code",
   "execution_count": 12,
   "metadata": {
    "id": "5HBCe4pky_6D"
   },
   "outputs": [],
   "source": [
    "OriginalTweet = df_baru['OriginalTweet'].values\n",
    "label = df_baru[['Negative', 'Neutral', 'Positive']].values"
   ]
  },
  {
   "cell_type": "code",
   "execution_count": 13,
   "metadata": {
    "id": "bKYBSIA6y5nv"
   },
   "outputs": [],
   "source": [
    "class Callback(tf.keras.callbacks.Callback): \n",
    "    def on_epoch_end(self, epoch, logs={}): \n",
    "        if(logs.get('accuracy')>0.9):\n",
    "            print(\"\\n Predikasi telah mencapai akurasi lebih dari 90%\") \n",
    "            self.model.stop_training = True \n",
    " \n",
    "callbacks = Callback()"
   ]
  },
  {
   "cell_type": "code",
   "execution_count": 14,
   "metadata": {
    "id": "RdFHmaoEzZRp"
   },
   "outputs": [],
   "source": [
    "OriginalTweet_latih, OriginalTweet_test, label_latih, label_test = train_test_split(OriginalTweet, label, test_size=0.2)"
   ]
  },
  {
   "cell_type": "code",
   "execution_count": 15,
   "metadata": {
    "id": "mvN9N-sIzfnp"
   },
   "outputs": [],
   "source": [
    "tokenizer = Tokenizer(num_words=5000, oov_token='</OOV>')\n",
    "tokenizer.fit_on_texts(OriginalTweet_latih) \n",
    "tokenizer.fit_on_texts(OriginalTweet_test)\n",
    " \n",
    "sekuens_latih = tokenizer.texts_to_sequences(OriginalTweet_latih)\n",
    "sekuens_test = tokenizer.texts_to_sequences(OriginalTweet_test)\n",
    " \n",
    "padded_latih = pad_sequences(sekuens_latih) \n",
    "padded_test = pad_sequences(sekuens_test)"
   ]
  },
  {
   "cell_type": "code",
   "execution_count": 16,
   "metadata": {
    "colab": {
     "base_uri": "https://localhost:8080/"
    },
    "id": "0z9ttZ2jzyux",
    "outputId": "a564489a-2a7a-4f1a-e051-01d382d4c77d"
   },
   "outputs": [
    {
     "name": "stdout",
     "output_type": "stream",
     "text": [
      "Model: \"sequential\"\n",
      "_________________________________________________________________\n",
      " Layer (type)                Output Shape              Param #   \n",
      "=================================================================\n",
      " embedding (Embedding)       (None, None, 16)          80000     \n",
      "                                                                 \n",
      " bidirectional (Bidirectiona  (None, None, 128)        41472     \n",
      " l)                                                              \n",
      "                                                                 \n",
      " bidirectional_1 (Bidirectio  (None, 64)               41216     \n",
      " nal)                                                            \n",
      "                                                                 \n",
      " dense (Dense)               (None, 8)                 520       \n",
      "                                                                 \n",
      " dropout (Dropout)           (None, 8)                 0         \n",
      "                                                                 \n",
      " dense_1 (Dense)             (None, 16)                144       \n",
      "                                                                 \n",
      " dropout_1 (Dropout)         (None, 16)                0         \n",
      "                                                                 \n",
      " dense_2 (Dense)             (None, 3)                 51        \n",
      "                                                                 \n",
      "=================================================================\n",
      "Total params: 163,403\n",
      "Trainable params: 163,403\n",
      "Non-trainable params: 0\n",
      "_________________________________________________________________\n"
     ]
    }
   ],
   "source": [
    "model=tf.keras.Sequential([\n",
    "    tf.keras.layers.Embedding(input_dim=5000, output_dim=16),    \n",
    "    tf.keras.layers.Bidirectional(tf.keras.layers.LSTM(64,return_sequences=True)),\n",
    "    tf.keras.layers.Bidirectional(tf.keras.layers.LSTM(32)),\n",
    "    tf.keras.layers.Dense(8,activation='relu'),\n",
    "    tf.keras.layers.Dropout(0.2),\n",
    "    tf.keras.layers.Dense(16,activation='relu'),\n",
    "    tf.keras.layers.Dropout(0.4),\n",
    "    tf.keras.layers.Dense(3,activation='softmax')\n",
    "])\n",
    "model.summary()"
   ]
  },
  {
   "cell_type": "code",
   "execution_count": 17,
   "metadata": {
    "id": "KA5CJMaH0yQ_"
   },
   "outputs": [],
   "source": [
    "model.compile(loss='categorical_crossentropy',optimizer='adam',metrics=['accuracy'])"
   ]
  },
  {
   "cell_type": "code",
   "execution_count": 18,
   "metadata": {
    "colab": {
     "base_uri": "https://localhost:8080/"
    },
    "id": "kHzYnWsP0Mrb",
    "outputId": "2e2e726e-d90b-4ab5-b539-10c5d21f4b01"
   },
   "outputs": [
    {
     "name": "stdout",
     "output_type": "stream",
     "text": [
      "Epoch 1/30\n",
      "1029/1029 [==============================] - 30s 18ms/step - loss: 0.9291 - accuracy: 0.4950 - val_loss: 0.7875 - val_accuracy: 0.6614\n",
      "Epoch 2/30\n",
      "1029/1029 [==============================] - 17s 17ms/step - loss: 0.7088 - accuracy: 0.7093 - val_loss: 0.5981 - val_accuracy: 0.7883\n",
      "Epoch 3/30\n",
      "1029/1029 [==============================] - 18s 18ms/step - loss: 0.5912 - accuracy: 0.7885 - val_loss: 0.5274 - val_accuracy: 0.8144\n",
      "Epoch 4/30\n",
      "1029/1029 [==============================] - 17s 17ms/step - loss: 0.5122 - accuracy: 0.8256 - val_loss: 0.4845 - val_accuracy: 0.8292\n",
      "Epoch 5/30\n",
      "1029/1029 [==============================] - 17s 17ms/step - loss: 0.4554 - accuracy: 0.8480 - val_loss: 0.4589 - val_accuracy: 0.8468\n",
      "Epoch 6/30\n",
      "1029/1029 [==============================] - 17s 17ms/step - loss: 0.3935 - accuracy: 0.8722 - val_loss: 0.4451 - val_accuracy: 0.8633\n",
      "Epoch 7/30\n",
      "1029/1029 [==============================] - 17s 17ms/step - loss: 0.3413 - accuracy: 0.8928 - val_loss: 0.4308 - val_accuracy: 0.8602\n",
      "Epoch 8/30\n",
      "1026/1029 [============================>.] - ETA: 0s - loss: 0.3046 - accuracy: 0.9054\n",
      " Predikasi telah mencapai akurasi lebih dari 90%\n",
      "1029/1029 [==============================] - 17s 17ms/step - loss: 0.3043 - accuracy: 0.9056 - val_loss: 0.4406 - val_accuracy: 0.8709\n"
     ]
    }
   ],
   "source": [
    "history=model.fit(padded_latih,label_latih,epochs=30,\n",
    "                      validation_data=(padded_test,label_test),callbacks=[callbacks])"
   ]
  },
  {
   "cell_type": "code",
   "execution_count": 19,
   "metadata": {
    "colab": {
     "base_uri": "https://localhost:8080/",
     "height": 499
    },
    "id": "mMqlXHDjFlIJ",
    "outputId": "4cea03a5-b2ae-415b-e52b-a3b56785f828"
   },
   "outputs": [
    {
     "data": {
      "image/png": "[encoded data removed]",
      "text/plain": [
       "<Figure size 576x576 with 2 Axes>"
      ]
     },
     "metadata": {
      "needs_background": "light"
     },
     "output_type": "display_data"
    }
   ],
   "source": [
    "acc = history.history['accuracy']\n",
    "val_acc = history.history['val_accuracy']\n",
    "\n",
    "loss = history.history['loss']\n",
    "val_loss = history.history['val_loss']\n",
    "\n",
    "plt.figure(figsize=(8, 8))\n",
    "plt.subplot(1, 2, 1)\n",
    "plt.plot(acc, label='Training Accuracy')\n",
    "plt.plot(val_acc, label='Validation Accuracy')\n",
    "plt.legend(loc='lower right')\n",
    "plt.title('Training and Validation Accuracy')\n",
    "\n",
    "plt.subplot(1, 2, 2)\n",
    "plt.plot(loss, label='Training Loss')\n",
    "plt.plot(val_loss, label='Validation Loss')\n",
    "plt.legend(loc='upper right')\n",
    "plt.title('Training and Validation Loss')\n",
    "plt.show()"
   ]
  }
 ],
 "metadata": {
  "accelerator": "GPU",
  "colab": {
   "collapsed_sections": [],
   "provenance": []
  },
  "gpuClass": "standard",
  "kernelspec": {
   "display_name": "Python 3 (ipykernel)",
   "language": "python",
   "name": "python3"
  },
  "language_info": {
   "codemirror_mode": {
    "name": "ipython",
    "version": 3
   },
   "file_extension": ".py",
   "mimetype": "text/x-python",
   "name": "python",
   "nbconvert_exporter": "python",
   "pygments_lexer": "ipython3",
   "version": "3.9.7"
  }
 },
 "nbformat": 4,
 "nbformat_minor": 1
}
